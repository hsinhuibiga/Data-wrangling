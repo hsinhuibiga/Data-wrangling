{
 "cells": [
  {
   "cell_type": "markdown",
   "metadata": {},
   "source": [
    "Understanding Learning Through Linear Regression\n",
    "==========\n",
    "The following exercises illustrate different aspects of learning theory by using [linear regression](http://en.wikipedia.org/wiki/Linear_regression) in a 2-dimensional space as a working learning model.  We won't look at the theory of linear regression; we will just use it as a black box in order to understand some fundamental *concepts* of the theory of learning.  Also, we won't look at the varied mathematical detail of the concepts we are introducing.  So this is a tutorial without mathematics or analysis. \n",
    "\n",
    "Now its important to realise that in data science you will rarely use this kind of simple 2-dimensional modelling.  The problem is stylised, and you rarely get simple Gaussian noise like this.  In many ways this is a trivial, unrealistic example of learning and statistics.  However, the simple nature of the material means we can carefully study the different aspects of learning, and discuss some of the behaviour that theory tells us about.  So this is excellent material for a tutorial.\n",
    "\n",
    "Linear regression\n",
    "----------\n",
    "Now the name *linear regression* is a bit confusing because the model allows non-linear curves to be fit to data.  The *linear* part is in the structure of the model.  We are only considering the 1-dimensional case for simplicity, so we estimate $y$ in terms of $x$.  So a simple so-called quadratic would make an estimate for $y$ using the form: \n",
    "  $$a*1 + b*x + c*x^2$$\n",
    "where we have a vector of 3 parameters, $(a,b,c)$, to *learn* and the function for $y$ is being represented as\n",
    "some linear combination of the *basis functions* $(1,x,x^2)$.  The vector of parameters is called the *coefficients* for the linear regression.\n",
    "\n",
    "Below we plot four different versions of this function for different values of the coefficients (that is, $(a,b,c)$)."
   ]
  },
  {
   "cell_type": "code",
   "execution_count": 1,
   "metadata": {},
   "outputs": [
    {
     "data": {
      "image/png": "[encoded data removed]",
      "text/plain": [
       "<Figure size 432x288 with 1 Axes>"
      ]
     },
     "metadata": {
      "needs_background": "light"
     },
     "output_type": "display_data"
    }
   ],
   "source": [
    "%matplotlib inline\n",
    "import matplotlib.pyplot as pl\n",
    "import numpy\n",
    "\n",
    "# generate a list of points between (0,5)\n",
    "x = numpy.arange(0., 5., 0.1)\n",
    "\n",
    "def makelabel(a,b,c):\n",
    "    return '(a=' + str(a) + ', b=' + str(b) + ', c=' + str(c) + ')'\n",
    "\n",
    "# now plot some curves with different co-efficients\n",
    "[a,b,c]  = [0,1,0.1]\n",
    "pl.plot(x, a + b*x + c*x**2, label=makelabel(a,b,c))\n",
    "[a,b,c]  = [0,2,-0.1]\n",
    "pl.plot(x, a + b*x + c*x**2, label=makelabel(a,b,c))\n",
    "[a,b,c]  = [-5,0.5,1]\n",
    "pl.plot(x, a + b*x + c*x**2, label=makelabel(a,b,c))\n",
    "[a,b,c]  = [20,0,-1]\n",
    "pl.plot(x, a + b*x + c*x**2, label=makelabel(a,b,c))\n",
    "\n",
    "# move the legend out of the way\n",
    "# the (1.2, 1.2) starts the legend at the location relative to\n",
    "# the top right corner\n",
    "pl.legend(bbox_to_anchor=(1.4, 1.0))\n",
    "pl.ylabel('y')\n",
    "pl.xlabel('x')\n",
    "pl.show()"
   ]
  },
  {
   "cell_type": "markdown",
   "metadata": {},
   "source": [
    "A general purpose 3-term linear model would make an estimate for $y$ using the form: \n",
    "  $$a*f(x) + b*g(x) + c*h(x)$$\n",
    "where we have a vector 3 parameters, $(a,b,c)$, to *learn* and the function for $y$ is being represented as\n",
    "some linear combination of the *basis functions* $(f(x),g(x),h(x))$.  In the example above this uses\n",
    "the mapping\n",
    "$$ f(x) \\mapsto 1 ~,~~~~ g(x) \\mapsto x ~,~~~~ h(x) \\mapsto x^2 $$\n",
    "\n",
    "Now we will use two different black box regression tools for this exercise. The first does linear regression \n",
    "to the *$N$-th order* using powers of $x$, so the $N+1$ basis functions are $(1,x,x^2,...,x^{N+1})$.  We call this *Regression with Simple Powers*.  The second does a special version of smoothing or regularisation using [Legendre Polynomials](http://en.wikipedia.org/wiki/Legendre_polynomials) that we call *Regression with Smoothed Legendre Polynomials*.  For the purposes of this activity, treat these as black boxes, so it is not your business currently to understand how these two black boxes work.\n",
    "\n",
    "#Building a Dataset\n",
    "Now because we are exploring how well linear regression works as we try different amounts of data, and different polynomial orders, in this demonstration we define a \"true\" function which is used to generate data sets.  Some times we want many different data sets of size 30, and sometimes we want a single data set and we take its initial sets, first 10, first 20, first 40, etc.  But the \"true\" function is used to generate the data and in plots so we can compare fits and the data with the truth.\n",
    "\n",
    "##Configuration\n",
    "The dataset and display has a number of characteristics.\n",
    "You can change the sample size, the range for $x$, the display (plotted) range for y,\n",
    "noise configuration, and the function being estimated by altering these values.\n",
    "\n",
    "We restrict the $x$ values to a given range and sample a number of points,\n",
    "uniformly or at random:\n",
    "+ *rd.xmin* : minimum for $x$ from the \"regressiondemo.py\" library, fixed at 0\n",
    "+ *rd.xmax* : maximum for $x$, from the \"regressiondemo.py\" library, fixed at 10\n",
    "+ *points* : number of data points in the sample, defined locally in this notebook\n",
    "\n",
    "The $y$ will take on any value depending on noise level and the true function:\n",
    "+ *truefunc()* : the \"true\" function underlying the data, defined locally in this notebook\n",
    "+ *sigma* : scale of noise to add,\n",
    "\n",
    "When plotting, we restrict $y$ values to a fixed range for coonvenience:\n",
    "+ *ydisplaymin* : when plotting, the minimum $y$ shown, defined locally in this notebook\n",
    "+ *ydisplaymax* : when plotting, the maximum $y$ shown, defined locally in this notebook"
   ]
  },
  {
   "cell_type": "markdown",
   "metadata": {},
   "source": [
    "##Step 1.1:   Generate noise-free data\n",
    "First we generate a data set with no noise, so the points lie perfectly on the \"true\" curve.    Note the range for the x-axis and the function are defined in this section and used in the subsequent steps.   Once you have worked through the full demomstration, all the steps, you may wish to go back and play with these.  Note changing the x-axis range wont inform your experiences much but changing the noise level and the true function will."
   ]
  },
  {
   "cell_type": "code",
   "execution_count": 2,
   "metadata": {},
   "outputs": [
    {
     "ename": "ModuleNotFoundError",
     "evalue": "No module named 'regressiondemo'",
     "output_type": "error",
     "traceback": [
      "\u001b[0;31m---------------------------------------------------------------------------\u001b[0m",
      "\u001b[0;31mModuleNotFoundError\u001b[0m                       Traceback (most recent call last)",
      "\u001b[0;32m<ipython-input-2-5a4c2c012017>\u001b[0m in \u001b[0;36m<module>\u001b[0;34m()\u001b[0m\n\u001b[1;32m      7\u001b[0m \u001b[0msys\u001b[0m\u001b[0;34m.\u001b[0m\u001b[0mpath\u001b[0m\u001b[0;34m.\u001b[0m\u001b[0mappend\u001b[0m\u001b[0;34m(\u001b[0m\u001b[0mos\u001b[0m\u001b[0;34m.\u001b[0m\u001b[0mgetcwd\u001b[0m\u001b[0;34m(\u001b[0m\u001b[0;34m)\u001b[0m\u001b[0;34m)\u001b[0m\u001b[0;34m\u001b[0m\u001b[0m\n\u001b[1;32m      8\u001b[0m \u001b[0;31m#   this is all of our functions\u001b[0m\u001b[0;34m\u001b[0m\u001b[0;34m\u001b[0m\u001b[0m\n\u001b[0;32m----> 9\u001b[0;31m \u001b[0;32mimport\u001b[0m \u001b[0mregressiondemo\u001b[0m \u001b[0;32mas\u001b[0m \u001b[0mrd\u001b[0m\u001b[0;34m\u001b[0m\u001b[0m\n\u001b[0m\u001b[1;32m     10\u001b[0m \u001b[0;34m\u001b[0m\u001b[0m\n\u001b[1;32m     11\u001b[0m \u001b[0;31m##############################\u001b[0m\u001b[0;34m\u001b[0m\u001b[0;34m\u001b[0m\u001b[0m\n",
      "\u001b[0;31mModuleNotFoundError\u001b[0m: No module named 'regressiondemo'"
     ]
    }
   ],
   "source": [
    "# libraries\n",
    "%matplotlib inline\n",
    "import matplotlib.pyplot as pl\n",
    "import sys\n",
    "import os\n",
    "#  do this so it finds our own library\n",
    "sys.path.append(os.getcwd())\n",
    "#   this is all of our functions\n",
    "import regressiondemo as rd\n",
    "\n",
    "##############################\n",
    "#      Customize the demo here\n",
    "#      =======================\n",
    "# the \"true\" function of x with range fixed at [0,10]\n",
    "def truefunc(x):\n",
    "    return numpy.sin(x*2.0)*numpy.sqrt(x)/3.3\n",
    "\n",
    "#  when fitting goes wild, need to constrain what y's are plotted\n",
    "#  must be compatible with \"true\" function\n",
    "ydisplaymin = -1.8\n",
    "ydisplaymax = 1.8\n",
    "\n",
    "#  don't make points more than 100 as demo is O(points^3)\n",
    "points = 30\n",
    "\n",
    "#  set noise level (std.dev)\n",
    "rd.setSigma(0.2)\n",
    "##############################\n",
    "\n",
    "#  generate a x vector randomly\n",
    "x = rd.makeX(points)\n",
    "#  build the true values matching the sampled data\n",
    "yt = truefunc(x)\n",
    "\n",
    "# xts and yts store the \"true\" function for the purposes of plotting\n",
    "# these have to be high frequency to make the resultant plot look\n",
    "# like a smooth curve\n",
    "xts = rd.makeX(200,uniform=True)\n",
    "yts = truefunc(xts)\n",
    "\n",
    "# now plot\n",
    "pl.plot(x, yt, 'bo')\n",
    "pl.plot(xts, yts,label = 'truth') \n",
    "pl.ylabel('y')\n",
    "pl.xlabel('x')\n",
    "pl.legend()\n",
    "pl.show()"
   ]
  },
  {
   "cell_type": "markdown",
   "metadata": {},
   "source": [
    "##Step 1.2:  Adding noise\n",
    "The most common approach is to add the noise to $y$.\n",
    "Here we will add Gaussian noise with a standard deviation of *sigma*.\n",
    "\n",
    "We will plot the data, the \"true\" function, and the pure noise (data minus the \"truth\") below."
   ]
  },
  {
   "cell_type": "code",
   "execution_count": 3,
   "metadata": {},
   "outputs": [
    {
     "ename": "NameError",
     "evalue": "name 'rd' is not defined",
     "output_type": "error",
     "traceback": [
      "\u001b[0;31m---------------------------------------------------------------------------\u001b[0m",
      "\u001b[0;31mNameError\u001b[0m                                 Traceback (most recent call last)",
      "\u001b[0;32m<ipython-input-3-169f6756cc1b>\u001b[0m in \u001b[0;36m<module>\u001b[0;34m()\u001b[0m\n\u001b[1;32m      1\u001b[0m \u001b[0;31m#  adds Gaussian noise\u001b[0m\u001b[0;34m\u001b[0m\u001b[0;34m\u001b[0m\u001b[0m\n\u001b[0;32m----> 2\u001b[0;31m \u001b[0my\u001b[0m \u001b[0;34m=\u001b[0m \u001b[0mrd\u001b[0m\u001b[0;34m.\u001b[0m\u001b[0maddNoise\u001b[0m\u001b[0;34m(\u001b[0m\u001b[0myt\u001b[0m\u001b[0;34m)\u001b[0m\u001b[0;34m\u001b[0m\u001b[0m\n\u001b[0m\u001b[1;32m      3\u001b[0m \u001b[0;34m\u001b[0m\u001b[0m\n\u001b[1;32m      4\u001b[0m \u001b[0;31m#  plot noise\u001b[0m\u001b[0;34m\u001b[0m\u001b[0;34m\u001b[0m\u001b[0m\n\u001b[1;32m      5\u001b[0m \u001b[0mpl\u001b[0m\u001b[0;34m.\u001b[0m\u001b[0mplot\u001b[0m\u001b[0;34m(\u001b[0m\u001b[0mx\u001b[0m\u001b[0;34m,\u001b[0m \u001b[0my\u001b[0m\u001b[0;34m-\u001b[0m\u001b[0myt\u001b[0m\u001b[0;34m,\u001b[0m \u001b[0;34m'bo'\u001b[0m\u001b[0;34m)\u001b[0m \u001b[0;31m# points instead of lines\u001b[0m\u001b[0;34m\u001b[0m\u001b[0m\n",
      "\u001b[0;31mNameError\u001b[0m: name 'rd' is not defined"
     ]
    }
   ],
   "source": [
    "#  adds Gaussian noise\n",
    "y = rd.addNoise(yt)\n",
    "\n",
    "#  plot noise\n",
    "pl.plot(x, y-yt, 'bo') # points instead of lines\n",
    "pl.ylabel('y')\n",
    "pl.xlabel('x')\n",
    "pl.suptitle('Noise')\n",
    "pl.xlim(rd.xmin,rd.xmax)\n",
    "pl.show()\n",
    "\n",
    "# plot data and the curve\n",
    "pl.plot(x, y, 'bo') # for data, plot points instead of lines\n",
    "pl.ylabel('y')\n",
    "pl.xlabel('x')\n",
    "pl.xlim(rd.xmin,rd.xmax)\n",
    "pl.plot(xts, yts,label = 'truth') # default is green line? \n",
    "pl.legend()\n",
    "pl.suptitle('Data + Function')"
   ]
  },
  {
   "cell_type": "markdown",
   "metadata": {},
   "source": [
    "#Performing Linear Regression\n",
    "We will use the standard linear regression function available in Python, *numpy.polyfit()*.  \n",
    "What this does is it fits a function $f(x)$ to a sequence of data points $$(x_1,y_1,),...,(x_N,y_N)$$ to minimise the squared error between the data and proposed function, given by\n",
    "    $$\\sum_{i=1}^N (y_i-f(x_i))^2 $$\n",
    "\n",
    "The underlying algorithm is not important for us currently.  But you have to see how to call the functions in *Python*.  \n",
    "\n",
    "##Step 1.3:  Running linear regression and plotting\n",
    "To show how its done, we fit a simple 4-th order polynomial.  Most of the code is for the plotting.  Note the \"true\" function is plotted with a thick line, and the simple polynomial fit is overlayed."
   ]
  },
  {
   "cell_type": "code",
   "execution_count": 4,
   "metadata": {},
   "outputs": [
    {
     "ename": "NameError",
     "evalue": "name 'xts' is not defined",
     "output_type": "error",
     "traceback": [
      "\u001b[0;31m---------------------------------------------------------------------------\u001b[0m",
      "\u001b[0;31mNameError\u001b[0m                                 Traceback (most recent call last)",
      "\u001b[0;32m<ipython-input-4-2e72382aa317>\u001b[0m in \u001b[0;36m<module>\u001b[0;34m()\u001b[0m\n\u001b[1;32m      1\u001b[0m \u001b[0;31m# plot data and the truth\u001b[0m\u001b[0;34m\u001b[0m\u001b[0;34m\u001b[0m\u001b[0m\n\u001b[0;32m----> 2\u001b[0;31m \u001b[0mpl\u001b[0m\u001b[0;34m.\u001b[0m\u001b[0mplot\u001b[0m\u001b[0;34m(\u001b[0m\u001b[0mxts\u001b[0m\u001b[0;34m,\u001b[0m \u001b[0myts\u001b[0m\u001b[0;34m,\u001b[0m\u001b[0mlabel\u001b[0m \u001b[0;34m=\u001b[0m \u001b[0;34m'truth'\u001b[0m\u001b[0;34m,\u001b[0m \u001b[0mlinewidth\u001b[0m\u001b[0;34m=\u001b[0m\u001b[0;36m2\u001b[0m\u001b[0;34m)\u001b[0m\u001b[0;34m\u001b[0m\u001b[0m\n\u001b[0m\u001b[1;32m      3\u001b[0m \u001b[0mpl\u001b[0m\u001b[0;34m.\u001b[0m\u001b[0mplot\u001b[0m\u001b[0;34m(\u001b[0m\u001b[0mx\u001b[0m\u001b[0;34m,\u001b[0m \u001b[0my\u001b[0m\u001b[0;34m,\u001b[0m \u001b[0;34m'o'\u001b[0m\u001b[0;34m)\u001b[0m\u001b[0;34m\u001b[0m\u001b[0m\n\u001b[1;32m      4\u001b[0m \u001b[0mpl\u001b[0m\u001b[0;34m.\u001b[0m\u001b[0mylabel\u001b[0m\u001b[0;34m(\u001b[0m\u001b[0;34m'y'\u001b[0m\u001b[0;34m)\u001b[0m\u001b[0;34m\u001b[0m\u001b[0m\n\u001b[1;32m      5\u001b[0m \u001b[0mpl\u001b[0m\u001b[0;34m.\u001b[0m\u001b[0mxlabel\u001b[0m\u001b[0;34m(\u001b[0m\u001b[0;34m'x'\u001b[0m\u001b[0;34m)\u001b[0m\u001b[0;34m\u001b[0m\u001b[0m\n",
      "\u001b[0;31mNameError\u001b[0m: name 'xts' is not defined"
     ]
    }
   ],
   "source": [
    "# plot data and the truth\n",
    "pl.plot(xts, yts,label = 'truth', linewidth=2) \n",
    "pl.plot(x, y, 'o') \n",
    "pl.ylabel('y')\n",
    "pl.xlabel('x')\n",
    "\n",
    "##############################\n",
    "#      Customize the demo here\n",
    "#      =======================\n",
    "#     change the order to see different order polynomials being fit\n",
    "order = 4\n",
    "##############################\n",
    "\n",
    "#  build the fitted poly curve (xts,ys) from order-th regression\n",
    "ys = rd.linReg(x,y,xts,order)\n",
    "\n",
    "#  plot fitted curve\n",
    "pl.plot(xts, ys,label = 'poly ' + str(order), linewidth=1.25 )  \n",
    "    \n",
    "#  the y range for the plot has to be altered depending on the data\n",
    "pl.ylim(ydisplaymin,ydisplaymax)\n",
    "pl.legend()\n",
    "pl.suptitle('A simple polynomial fit')"
   ]
  },
  {
   "cell_type": "markdown",
   "metadata": {},
   "source": [
    "Low order linear regression doesn't work too well for complex functions.\n",
    "\n",
    "##Step 1.4:  Testing on a mystery function\n",
    "First we generate the data.  We fix it here, so later on when we ftry different fits, the dataset doesn't change.  The function *rd.demoReg1()* has its own embedded \"truth\" to generate the data."
   ]
  },
  {
   "cell_type": "code",
   "execution_count": null,
   "metadata": {},
   "outputs": [],
   "source": [
    "# so e.g. student exercise, try 3rd, 5th, 6th\n",
    "# try own data, e.g. height & age from 0 to 15, linear? from 50 to 80, also linear? from 0 to 100, slight curve...?\n",
    "# try S-curve e.g. World population\n",
    "# https://en.wikipedia.org/wiki/World_population\n",
    "# Crickets, patients data\n",
    "\n",
    "##############################\n",
    "#      Customize the demo here\n",
    "#      =======================\n",
    "#     # of data\n",
    "points = 40\n",
    "##############################\n",
    "\n",
    "x,y = rd.demoReg1(points)\n",
    "# plot data \n",
    "pl.plot(x, y, 'o') \n",
    "pl.ylabel('y')\n",
    "pl.xlabel('x')"
   ]
  },
  {
   "cell_type": "markdown",
   "metadata": {},
   "source": [
    "Now with the dataset fixed, we can try different fits."
   ]
  },
  {
   "cell_type": "code",
   "execution_count": 5,
   "metadata": {},
   "outputs": [
    {
     "ename": "NameError",
     "evalue": "name 'y' is not defined",
     "output_type": "error",
     "traceback": [
      "\u001b[0;31m---------------------------------------------------------------------------\u001b[0m",
      "\u001b[0;31mNameError\u001b[0m                                 Traceback (most recent call last)",
      "\u001b[0;32m<ipython-input-5-ef28c3e2fee1>\u001b[0m in \u001b[0;36m<module>\u001b[0;34m()\u001b[0m\n\u001b[1;32m      7\u001b[0m \u001b[0;34m\u001b[0m\u001b[0m\n\u001b[1;32m      8\u001b[0m \u001b[0;31m# plot data\u001b[0m\u001b[0;34m\u001b[0m\u001b[0;34m\u001b[0m\u001b[0m\n\u001b[0;32m----> 9\u001b[0;31m \u001b[0mpl\u001b[0m\u001b[0;34m.\u001b[0m\u001b[0mplot\u001b[0m\u001b[0;34m(\u001b[0m\u001b[0mx\u001b[0m\u001b[0;34m,\u001b[0m \u001b[0my\u001b[0m\u001b[0;34m,\u001b[0m \u001b[0;34m'o'\u001b[0m\u001b[0;34m)\u001b[0m\u001b[0;34m\u001b[0m\u001b[0m\n\u001b[0m\u001b[1;32m     10\u001b[0m \u001b[0mpl\u001b[0m\u001b[0;34m.\u001b[0m\u001b[0mylabel\u001b[0m\u001b[0;34m(\u001b[0m\u001b[0;34m'y'\u001b[0m\u001b[0;34m)\u001b[0m\u001b[0;34m\u001b[0m\u001b[0m\n\u001b[1;32m     11\u001b[0m \u001b[0mpl\u001b[0m\u001b[0;34m.\u001b[0m\u001b[0mxlabel\u001b[0m\u001b[0;34m(\u001b[0m\u001b[0;34m'x'\u001b[0m\u001b[0;34m)\u001b[0m\u001b[0;34m\u001b[0m\u001b[0m\n",
      "\u001b[0;31mNameError\u001b[0m: name 'y' is not defined"
     ]
    }
   ],
   "source": [
    "##############################\n",
    "#      Customize the demo here\n",
    "#      =======================\n",
    "#     change the order to see different order polynomials being fit\n",
    "order = 10\n",
    "##############################\n",
    "\n",
    "# plot data \n",
    "pl.plot(x, y, 'o') \n",
    "pl.ylabel('y')\n",
    "pl.xlabel('x')\n",
    "\n",
    "#  build the fitted poly curve (xts,ys) from order-th regression\n",
    "ys = rd.linReg(x,y,xts,order)\n",
    "\n",
    "#  plot fitted curve\n",
    "pl.plot(xts, ys,label = 'poly ' + str(order), linewidth=1.25 )  \n",
    "    \n",
    "#  the y range for the plot has to be altered depending on the data\n",
    "pl.ylim(ydisplaymin,ydisplaymax)\n",
    "pl.legend()\n",
    "pl.suptitle('A simple polynomial fit to mystery data')"
   ]
  },
  {
   "cell_type": "markdown",
   "metadata": {},
   "source": [
    "So, for different dataset sizes (change *points*), try different polynomial *orders* to see what looks good."
   ]
  }
 ],
 "metadata": {
  "kernelspec": {
   "display_name": "Python 3",
   "language": "python",
   "name": "python3"
  },
  "language_info": {
   "codemirror_mode": {
    "name": "ipython",
    "version": 3
   },
   "file_extension": ".py",
   "mimetype": "text/x-python",
   "name": "python",
   "nbconvert_exporter": "python",
   "pygments_lexer": "ipython3",
   "version": "3.6.6"
  },
  "name": "1.RegressionBasic.ipynb"
 },
 "nbformat": 4,
 "nbformat_minor": 1
}
