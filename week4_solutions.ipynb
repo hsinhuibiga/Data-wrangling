{
 "cells": [
  {
   "cell_type": "code",
   "execution_count": null,
   "metadata": {},
   "outputs": [],
   "source": [
    "# Example 1: if-elif-else structure\n",
    "# Assigning the correct grade for each unit mark\n",
    "# Activity: Does this program correctly handle the marks between 0 and 100 ?\n",
    "\n",
    "mark = int(input(\"Enter the unit mark: \"))\n",
    "\n",
    "if mark >= 0 and mark <= 49:\n",
    "    grade = \"N\"\n",
    "elif mark >= 50 and mark <= 59:\n",
    "    grade = \"P\"\n",
    "elif mark >= 60 and mark <= 69:\n",
    "    grade = \"C\"\n",
    "elif mark >= 70 and mark <= 79:\n",
    "    grade = \"D\"\n",
    "elif mark >= 80 and mark <= 100:\n",
    "    grade = \"HD\"\n",
    "else:\n",
    "    print(\"Error: mark out of range\")\n",
    "\n",
    "if (mark >= 0 and mark <= 100):\n",
    "    print(\"Mark:\", mark, \"Grade:\", grade)\n"
   ]
  },
  {
   "cell_type": "code",
   "execution_count": null,
   "metadata": {},
   "outputs": [],
   "source": [
    "# Example 2: for-in structure \n",
    "# Counting the occurences of punctuations in a paragraph\n",
    "# (Sample text from http://www.gutenberg.org/cache/epub/9958/pg9958.txt)\n",
    "# Activity: Does this program correctly identify all the punctuations ? \n",
    "\n",
    "text = input(\"Enter a short paragraph: \")\n",
    "\n",
    "count = 0\n",
    "for each in text:\n",
    "    if not each.isalpha() and not each.isdigit() and each != \" \":\n",
    "        count += 1\n",
    "        \n",
    "print(\"Number of punctuations:\", count)\n"
   ]
  },
  {
   "cell_type": "code",
   "execution_count": null,
   "metadata": {},
   "outputs": [],
   "source": [
    "# Example 3: for structure with range function\n",
    "# Create a list of list elements from the given list \n",
    "# where the elements of the list are a list of two values indicating a pair of XY coordinates\n",
    "\n",
    "given_list = [0, 0, 0, 1, 1, 0, 1, 1]\n",
    "xy_list = []\n",
    "\n",
    "for i in range(0, len(given_list), 2):\n",
    "    temp_list = []\n",
    "    temp_list.append(given_list[i])\n",
    "    temp_list.append(given_list[i+1])\n",
    "    xy_list.append(temp_list)\n",
    "    \n",
    "print(xy_list)\n",
    "    "
   ]
  },
  {
   "cell_type": "code",
   "execution_count": null,
   "metadata": {},
   "outputs": [],
   "source": [
    "# Example 4: tuple example\n",
    "# Create a list of tuple elements from the given list \n",
    "# where the elements of the list are a tuple of two values indicating a pair of XY coordinates\n",
    "# Activity: What are the differences that you noticed as compared to Example 3 ?\n",
    "\n",
    "given_list = [0, 0, 0, 1, 1, 0, 1, 1]\n",
    "xy_list = []\n",
    "\n",
    "for i in range(0, len(given_list), 2):\n",
    "    a_tuple = (given_list[i], given_list[i+1])\n",
    "    xy_list.append(a_tuple)\n",
    "    \n",
    "print(xy_list)\n"
   ]
  },
  {
   "cell_type": "code",
   "execution_count": 1,
   "metadata": {},
   "outputs": [
    {
     "name": "stdout",
     "output_type": "stream",
     "text": [
      "Enter a short paragraph: srtyuio\n",
      "Unique words: \n",
      "srtyuio "
     ]
    }
   ],
   "source": [
    "# Example 5: set example\n",
    "# Find and display all the unique words (ignoring case) occurred in a paragraph alphabetically \n",
    "# (Sample text from http://www.gutenberg.org/cache/epub/9958/pg9958.txt)\n",
    "# Activity: How would you make use of the set data type for the implementation? \n",
    "\n",
    "text = input(\"Enter a short paragraph: \")\n",
    "\n",
    "word_list = text.split()\n",
    "word_list = [each.lower() for each in word_list]\n",
    "word_set = set(word_list)\n",
    "\n",
    "sorted_list = list(word_set)\n",
    "sorted_list.sort()\n",
    "\n",
    "print(\"Unique words: \")\n",
    "for each in sorted_list:\n",
    "    print(each, end = \" \")\n"
   ]
  },
  {
   "cell_type": "code",
   "execution_count": null,
   "metadata": {},
   "outputs": [],
   "source": [
    "# Example 6: dictionary example \n",
    "# Count and display the occurences for each of the punctuations in a paragraph\n",
    "# (Sample text from http://www.gutenberg.org/cache/epub/9958/pg9958.txt)\n",
    "# Activity: How would you make use of the dictionary data type for the implementation?\n",
    "\n",
    "text = input(\"Enter a short paragraph: \")\n",
    "count_dict = {}\n",
    "\n",
    "for each in text:\n",
    "    if not each.isalpha() and not each.isdigit() and each != ' ':\n",
    "        if each not in count_dict:\n",
    "            count_dict[each] = 0\n",
    "        else:\n",
    "            count_dict[each] += 1\n",
    "\n",
    "print(\"Punctuation frequencies: \")\n",
    "for (key, value) in count_dict.items():\n",
    "    print (key + \": \" + str(value))\n"
   ]
  }
 ],
 "metadata": {
  "anaconda-cloud": {},
  "kernelspec": {
   "display_name": "Python 3",
   "language": "python",
   "name": "python3"
  },
  "language_info": {
   "codemirror_mode": {
    "name": "ipython",
    "version": 3
   },
   "file_extension": ".py",
   "mimetype": "text/x-python",
   "name": "python",
   "nbconvert_exporter": "python",
   "pygments_lexer": "ipython3",
   "version": "3.6.1"
  }
 },
 "nbformat": 4,
 "nbformat_minor": 1
}
